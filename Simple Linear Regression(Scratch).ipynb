{
 "cells": [
  {
   "cell_type": "code",
   "execution_count": 1,
   "id": "0c0e8714",
   "metadata": {},
   "outputs": [],
   "source": [
    "import numpy as np"
   ]
  },
  {
   "cell_type": "code",
   "execution_count": 2,
   "id": "724b21e3",
   "metadata": {},
   "outputs": [],
   "source": [
    "class Linear_Regression():\n",
    "    \n",
    "    # Initializing the parameter (Learning rate & number of iterations)\n",
    "    def __init__(self,lr,n_iter):\n",
    "        self.lr = lr\n",
    "        self.n_iter = n_iter\n",
    "        \n",
    "    \n",
    "    def fit(self,X,y):\n",
    "        # number of parameters(rows) & number of features (columns)\n",
    "        self.m,self.n = X.shape\n",
    "        \n",
    "        # initializing weight and bias\n",
    "        self.w = np.zeros(self.n)\n",
    "        self.b = 0\n",
    "        \n",
    "        self.X = X\n",
    "        self.y = y\n",
    "        \n",
    "        # implementing gradient descent\n",
    "        for i in range(self.n_iter):\n",
    "            self.update_weight()\n",
    "            \n",
    "        \n",
    "    def update_weight(self):\n",
    "        \n",
    "        y_pred = self.predict(self.X)\n",
    "        \n",
    "        # calculate gradients\n",
    "        dw = -(2 * (self.X.T).dot(self.y - y_pred)) / self.m\n",
    "        db = -2 * np.sum(self.y - y_pred) / self.m\n",
    "        \n",
    "        # update weight\n",
    "        self.w = self.w - self.lr * dw\n",
    "        self.b = self.b - self.lr * db\n",
    "        \n",
    "        \n",
    "    def predict(self, X):\n",
    "        \n",
    "        return X.dot(self.w) + self.b\n",
    "        \n",
    "        "
   ]
  },
  {
   "cell_type": "markdown",
   "id": "9b295701",
   "metadata": {},
   "source": [
    "###  USing linear regression model for prediction"
   ]
  },
  {
   "cell_type": "code",
   "execution_count": 3,
   "id": "41405313",
   "metadata": {},
   "outputs": [],
   "source": [
    "import pandas as pd\n",
    "from sklearn.model_selection import train_test_split\n",
    "import matplotlib.pyplot as plt"
   ]
  },
  {
   "cell_type": "markdown",
   "id": "54799169",
   "metadata": {},
   "source": [
    "### Data preprocessing"
   ]
  },
  {
   "cell_type": "code",
   "execution_count": 4,
   "id": "f5169958",
   "metadata": {},
   "outputs": [],
   "source": [
    "df = pd.read_csv('/Users/raihan/Brototype/Dataset/dataset_for_models/Salary_Dataset.csv')"
   ]
  },
  {
   "cell_type": "code",
   "execution_count": 5,
   "id": "4a6fab67",
   "metadata": {},
   "outputs": [
    {
     "data": {
      "text/html": [
       "<div>\n",
       "<style scoped>\n",
       "    .dataframe tbody tr th:only-of-type {\n",
       "        vertical-align: middle;\n",
       "    }\n",
       "\n",
       "    .dataframe tbody tr th {\n",
       "        vertical-align: top;\n",
       "    }\n",
       "\n",
       "    .dataframe thead th {\n",
       "        text-align: right;\n",
       "    }\n",
       "</style>\n",
       "<table border=\"1\" class=\"dataframe\">\n",
       "  <thead>\n",
       "    <tr style=\"text-align: right;\">\n",
       "      <th></th>\n",
       "      <th>YearsExperience</th>\n",
       "      <th>Salary</th>\n",
       "    </tr>\n",
       "  </thead>\n",
       "  <tbody>\n",
       "    <tr>\n",
       "      <th>0</th>\n",
       "      <td>1.1</td>\n",
       "      <td>39343.0</td>\n",
       "    </tr>\n",
       "    <tr>\n",
       "      <th>1</th>\n",
       "      <td>1.3</td>\n",
       "      <td>46205.0</td>\n",
       "    </tr>\n",
       "    <tr>\n",
       "      <th>2</th>\n",
       "      <td>1.5</td>\n",
       "      <td>37731.0</td>\n",
       "    </tr>\n",
       "    <tr>\n",
       "      <th>3</th>\n",
       "      <td>2.0</td>\n",
       "      <td>43525.0</td>\n",
       "    </tr>\n",
       "    <tr>\n",
       "      <th>4</th>\n",
       "      <td>2.2</td>\n",
       "      <td>39891.0</td>\n",
       "    </tr>\n",
       "  </tbody>\n",
       "</table>\n",
       "</div>"
      ],
      "text/plain": [
       "   YearsExperience   Salary\n",
       "0              1.1  39343.0\n",
       "1              1.3  46205.0\n",
       "2              1.5  37731.0\n",
       "3              2.0  43525.0\n",
       "4              2.2  39891.0"
      ]
     },
     "execution_count": 5,
     "metadata": {},
     "output_type": "execute_result"
    }
   ],
   "source": [
    "df.head()"
   ]
  },
  {
   "cell_type": "code",
   "execution_count": 6,
   "id": "3d342661",
   "metadata": {},
   "outputs": [
    {
     "data": {
      "text/plain": [
       "YearsExperience    0\n",
       "Salary             0\n",
       "dtype: int64"
      ]
     },
     "execution_count": 6,
     "metadata": {},
     "output_type": "execute_result"
    }
   ],
   "source": [
    "df.isnull().sum()"
   ]
  },
  {
   "cell_type": "code",
   "execution_count": 7,
   "id": "88e20143",
   "metadata": {},
   "outputs": [],
   "source": [
    "df.dropna(inplace=True)"
   ]
  },
  {
   "cell_type": "code",
   "execution_count": 8,
   "id": "eb9a1b0f",
   "metadata": {},
   "outputs": [
    {
     "data": {
      "text/plain": [
       "YearsExperience    0\n",
       "Salary             0\n",
       "dtype: int64"
      ]
     },
     "execution_count": 8,
     "metadata": {},
     "output_type": "execute_result"
    }
   ],
   "source": [
    "df.isnull().sum()"
   ]
  },
  {
   "cell_type": "code",
   "execution_count": 9,
   "id": "1f875c9a",
   "metadata": {},
   "outputs": [],
   "source": [
    "X = df.iloc[:,:1]"
   ]
  },
  {
   "cell_type": "code",
   "execution_count": 10,
   "id": "87a822fd",
   "metadata": {},
   "outputs": [],
   "source": [
    "y = df.iloc[:,-1]\n"
   ]
  },
  {
   "cell_type": "markdown",
   "id": "895d116a",
   "metadata": {},
   "source": [
    "### Splitting dataset"
   ]
  },
  {
   "cell_type": "code",
   "execution_count": 11,
   "id": "d7b88dbf",
   "metadata": {},
   "outputs": [],
   "source": [
    "X_train, X_test,y_train,y_test = train_test_split(X,y,test_size=0.25,random_state=0)"
   ]
  },
  {
   "cell_type": "markdown",
   "id": "de91b711",
   "metadata": {},
   "source": [
    "### Training linear regression model"
   ]
  },
  {
   "cell_type": "code",
   "execution_count": 12,
   "id": "9b8ecec0",
   "metadata": {},
   "outputs": [],
   "source": [
    "model = Linear_Regression(lr=0.02,n_iter=1000)"
   ]
  },
  {
   "cell_type": "code",
   "execution_count": 13,
   "id": "1a688de3",
   "metadata": {},
   "outputs": [],
   "source": [
    "model.fit(X_train,y_train)"
   ]
  },
  {
   "cell_type": "code",
   "execution_count": 14,
   "id": "f39433a3",
   "metadata": {},
   "outputs": [
    {
     "name": "stdout",
     "output_type": "stream",
     "text": [
      "Weight =  9380.940726541196\n",
      "bias =  26979.140955854207\n"
     ]
    }
   ],
   "source": [
    "# printing parameters\n",
    "print('Weight = ',model.w[0])\n",
    "print('bias = ',model.b)"
   ]
  },
  {
   "cell_type": "markdown",
   "id": "1f3d79fa",
   "metadata": {},
   "source": [
    "### predict valueof test data"
   ]
  },
  {
   "cell_type": "code",
   "execution_count": 15,
   "id": "3fccf89e",
   "metadata": {},
   "outputs": [],
   "source": [
    "test_pred = model.predict(X_test)"
   ]
  },
  {
   "cell_type": "code",
   "execution_count": 16,
   "id": "59535351",
   "metadata": {},
   "outputs": [
    {
     "data": {
      "text/plain": [
       "2      41050.552046\n",
       "28    123602.830439\n",
       "13     65440.997935\n",
       "10     63564.809789\n",
       "26    116098.077858\n",
       "24    108593.325277\n",
       "27    117036.171931\n",
       "11     64502.903862\n",
       "dtype: float64"
      ]
     },
     "execution_count": 16,
     "metadata": {},
     "output_type": "execute_result"
    }
   ],
   "source": [
    "test_pred"
   ]
  },
  {
   "cell_type": "markdown",
   "id": "b34ee7eb",
   "metadata": {},
   "source": [
    "### Visualizing actual and predicted values"
   ]
  },
  {
   "cell_type": "code",
   "execution_count": 17,
   "id": "22001b21",
   "metadata": {},
   "outputs": [
    {
     "data": {
      "text/plain": [
       "<module 'matplotlib.pyplot' from '/Users/raihan/anaconda3/lib/python3.10/site-packages/matplotlib/pyplot.py'>"
      ]
     },
     "execution_count": 17,
     "metadata": {},
     "output_type": "execute_result"
    },
    {
     "data": {
      "image/png": "[encoded data removed]",
      "text/plain": [
       "<Figure size 640x480 with 1 Axes>"
      ]
     },
     "metadata": {},
     "output_type": "display_data"
    }
   ],
   "source": [
    "plt.scatter(X_test,y_test,color= 'red' )\n",
    "plt.plot(X_test ,test_pred, color = 'blue')\n",
    "plt.xlabel('Experience')\n",
    "plt.ylabel('Salary')\n",
    "plt.title(' Salary v/s Experience')\n",
    "plt"
   ]
  },
  {
   "cell_type": "code",
   "execution_count": null,
   "id": "ee10e3f8",
   "metadata": {},
   "outputs": [],
   "source": []
  }
 ],
 "metadata": {
  "kernelspec": {
   "display_name": "Python 3 (ipykernel)",
   "language": "python",
   "name": "python3"
  },
  "language_info": {
   "codemirror_mode": {
    "name": "ipython",
    "version": 3
   },
   "file_extension": ".py",
   "mimetype": "text/x-python",
   "name": "python",
   "nbconvert_exporter": "python",
   "pygments_lexer": "ipython3",
   "version": "3.10.9"
  }
 },
 "nbformat": 4,
 "nbformat_minor": 5
}
